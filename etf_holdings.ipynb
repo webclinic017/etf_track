{
 "cells": [
  {
   "cell_type": "code",
   "execution_count": null,
   "metadata": {},
   "outputs": [],
   "source": [
    "%%HTML\n",
    "<style type=\"text/css\">\n",
    "table.dataframe td, table.dataframe th {\n",
    "    border: 1px  white solid !important;\n",
    "  color: white !important;\n",
    "}"
   ]
  },
  {
   "cell_type": "code",
   "execution_count": null,
   "metadata": {},
   "outputs": [],
   "source": [
    "%matplotlib inline\n",
    "\n",
    "from bs4 import BeautifulSoup\n",
    "from iexfinance.stocks import Stock\n",
    "\n",
    "#import iexfinance\n",
    "import matplotlib\n",
    "import matplotlib.pyplot as plt\n",
    "import re\n",
    "import requests\n",
    "import numpy as np\n",
    "import pandas as pd\n",
    "from selenium import webdriver\n",
    "from selenium.webdriver.chrome.webdriver import WebDriver\n",
    "import warnings\n",
    "\n",
    "\n",
    "warnings.filterwarnings('ignore')"
   ]
  },
  {
   "cell_type": "code",
   "execution_count": null,
   "metadata": {},
   "outputs": [],
   "source": [
    "def get_table(soup):\n",
    "    for t in soup.select('table'):\n",
    "        header = t.select('thead tr th')\n",
    "        if len(header) > 2:\n",
    "            if (header[0].get_text().strip() == 'Symbol'\n",
    "                and header[2].get_text().strip().startswith('% Holding')):\n",
    "                return t\n",
    "    raise Exception('could not find symbol list table')\n",
    "\n",
    "\n",
    "def get_etf_holdings(etf_symbol):\n",
    "    '''\n",
    "    etf_symbol: str\n",
    "    \n",
    "    return: pd.DataFrame\n",
    "\n",
    "    '''\n",
    "    \n",
    "    \n",
    "\n",
    "    url = 'https://www.barchart.com/stocks/quotes/{}/constituents?page=all'.format(\n",
    "        etf_symbol)\n",
    "    # Loads the ETF constituents page and reads the holdings table\n",
    "    browser = WebDriver() # webdriver.PhantomJS()\n",
    "    browser.get(url)\n",
    "    html = browser.page_source\n",
    "    soup = BeautifulSoup(html, 'html')\n",
    "    table = get_table(soup)\n",
    "    # Reads the holdings table line by line and appends each asset to a\n",
    "    # dictionary along with the holdings percentage\n",
    "    asset_dict = {}\n",
    "    for row in table.select('tr')[1:-1]:\n",
    "        try:\n",
    "            cells = row.select('td')\n",
    "        \n",
    "            symbol = cells[0].get_text().strip()\n",
    "            name = cells[1].text.strip()\n",
    "            celltext = cells[2].get_text().strip()\n",
    "            percent = celltext.rstrip('%')\n",
    "            shares = cells[3].text.strip().replace(',', '')\n",
    "            if symbol != \"\" and percent != 0.0:\n",
    "                asset_dict[symbol] = {\n",
    "                    'name': name,\n",
    "                    'percent': percent,\n",
    "                    'shares': shares,\n",
    "                }\n",
    "            output = pd.DataFrame(asset_dict).T.reset_index().rename(columns={'index':'symbol'})\n",
    "            \n",
    "        except BaseException as ex:\n",
    "            print(ex)\n",
    "    browser.quit()\n",
    "\n",
    "    return output"
   ]
  },
  {
   "cell_type": "code",
   "execution_count": null,
   "metadata": {},
   "outputs": [],
   "source": [
    "\n",
    "spyd = get_etf_holdings('SPYD')"
   ]
  },
  {
   "cell_type": "code",
   "execution_count": null,
   "metadata": {},
   "outputs": [],
   "source": [
    "spyd.to_dict('records')"
   ]
  },
  {
   "cell_type": "code",
   "execution_count": null,
   "metadata": {},
   "outputs": [],
   "source": []
  },
  {
   "cell_type": "code",
   "execution_count": null,
   "metadata": {},
   "outputs": [],
   "source": []
  },
  {
   "cell_type": "code",
   "execution_count": null,
   "metadata": {},
   "outputs": [],
   "source": []
  }
 ],
 "metadata": {
  "interpreter": {
   "hash": "31a5584f12451e5aa807154daa3e807da8bb7422a8fe4f9b2e1a70851cc17941"
  },
  "kernelspec": {
   "display_name": "Python 3.10.2 ('venv': venv)",
   "language": "python",
   "name": "python3"
  },
  "language_info": {
   "codemirror_mode": {
    "name": "ipython",
    "version": 3
   },
   "file_extension": ".py",
   "mimetype": "text/x-python",
   "name": "python",
   "nbconvert_exporter": "python",
   "pygments_lexer": "ipython3",
   "version": "3.10.2"
  },
  "orig_nbformat": 4
 },
 "nbformat": 4,
 "nbformat_minor": 2
}
