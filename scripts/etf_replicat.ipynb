{
 "cells": [
  {
   "cell_type": "code",
   "execution_count": null,
   "metadata": {},
   "outputs": [],
   "source": [
    "%matplotlib inline\n",
    "\n",
    "from bs4 import BeautifulSoup\n",
    "from iexfinance.stocks import Stock\n",
    "\n",
    "import iexfinance\n",
    "import matplotlib\n",
    "import matplotlib.pyplot as plt\n",
    "import re\n",
    "import requests\n",
    "import numpy as np\n",
    "import pandas as pd\n",
    "from selenium import webdriver\n",
    "from selenium.webdriver.chrome.webdriver import WebDriver\n",
    "import warnings\n",
    "\n",
    "\n",
    "warnings.filterwarnings('ignore')"
   ]
  },
  {
   "cell_type": "markdown",
   "metadata": {},
   "source": [
    "# Constituent data using browser automation"
   ]
  },
  {
   "cell_type": "code",
   "execution_count": 9,
   "metadata": {},
   "outputs": [],
   "source": [
    "def get_etf_holdings(etf_symbol):\n",
    "    '''\n",
    "    etf_symbol: str\n",
    "    \n",
    "    return: pd.DataFrame\n",
    "\n",
    "    '''\n",
    "    dfdata = []\n",
    "    for etfs in etf_symbol:\n",
    "\n",
    "        url = 'https://www.barchart.com/stocks/quotes/{}/constituents?page=all'.format(\n",
    "            etfs)\n",
    "\n",
    "        # Loads the ETF constituents page and reads the holdings table\n",
    "        browser = WebDriver() # webdriver.PhantomJS()\n",
    "        browser.get(url)\n",
    "        html = browser.page_source\n",
    "        soup = BeautifulSoup(html, 'html')\n",
    "        table = get_table(soup)\n",
    "\n",
    "        # Reads the holdings table line by line and appends each asset to a\n",
    "        # dictionary along with the holdings percentage\n",
    "        asset_dict = {}\n",
    "        for row in table.select('tr')[1:-1]:\n",
    "            try:\n",
    "                cells = row.select('td')\n",
    "            \n",
    "                symbol = cells[0].get_text().strip()\n",
    "\n",
    "                name = cells[1].text.strip()\n",
    "                celltext = cells[2].get_text().strip()\n",
    "                percent = celltext.rstrip('%')\n",
    "                shares = cells[3].text.strip().replace(',', '')\n",
    "                if symbol != \"\" and percent != 0.0:\n",
    "                    asset_dict[symbol] = {\n",
    "                        'name': name,\n",
    "                        'percent': percent,\n",
    "                        'shares': shares,\n",
    "                    }\n",
    "                output = pd.DataFrame(asset_dict).T.reset_index().rename(columns={'index':'symbol'})\n",
    "                dfdata.append(output)\n",
    "            except BaseException as ex:\n",
    "                print(ex)\n",
    "        browser.quit()\n",
    "    \n",
    "    return pd.concat(dfdata)"
   ]
  },
  {
   "cell_type": "code",
   "execution_count": 6,
   "metadata": {},
   "outputs": [],
   "source": [
    "etf = ['SPY','PXI']"
   ]
  },
  {
   "cell_type": "code",
   "execution_count": 10,
   "metadata": {},
   "outputs": [
    {
     "data": {
      "text/html": [
       "<div>\n",
       "<style scoped>\n",
       "    .dataframe tbody tr th:only-of-type {\n",
       "        vertical-align: middle;\n",
       "    }\n",
       "\n",
       "    .dataframe tbody tr th {\n",
       "        vertical-align: top;\n",
       "    }\n",
       "\n",
       "    .dataframe thead th {\n",
       "        text-align: right;\n",
       "    }\n",
       "</style>\n",
       "<table border=\"1\" class=\"dataframe\">\n",
       "  <thead>\n",
       "    <tr style=\"text-align: right;\">\n",
       "      <th></th>\n",
       "      <th>symbol</th>\n",
       "      <th>name</th>\n",
       "      <th>percent</th>\n",
       "      <th>shares</th>\n",
       "    </tr>\n",
       "  </thead>\n",
       "  <tbody>\n",
       "    <tr>\n",
       "      <th>0</th>\n",
       "      <td>AAPL</td>\n",
       "      <td>Apple Inc</td>\n",
       "      <td>7.01</td>\n",
       "      <td>N/A</td>\n",
       "    </tr>\n",
       "    <tr>\n",
       "      <th>0</th>\n",
       "      <td>AAPL</td>\n",
       "      <td>Apple Inc</td>\n",
       "      <td>7.01</td>\n",
       "      <td>N/A</td>\n",
       "    </tr>\n",
       "    <tr>\n",
       "      <th>1</th>\n",
       "      <td>MSFT</td>\n",
       "      <td>Microsoft Corp</td>\n",
       "      <td>5.94</td>\n",
       "      <td>N/A</td>\n",
       "    </tr>\n",
       "    <tr>\n",
       "      <th>0</th>\n",
       "      <td>AAPL</td>\n",
       "      <td>Apple Inc</td>\n",
       "      <td>7.01</td>\n",
       "      <td>N/A</td>\n",
       "    </tr>\n",
       "    <tr>\n",
       "      <th>1</th>\n",
       "      <td>MSFT</td>\n",
       "      <td>Microsoft Corp</td>\n",
       "      <td>5.94</td>\n",
       "      <td>N/A</td>\n",
       "    </tr>\n",
       "    <tr>\n",
       "      <th>...</th>\n",
       "      <td>...</td>\n",
       "      <td>...</td>\n",
       "      <td>...</td>\n",
       "      <td>...</td>\n",
       "    </tr>\n",
       "    <tr>\n",
       "      <th>36</th>\n",
       "      <td>HCC</td>\n",
       "      <td>Warrior Met Coal Inc</td>\n",
       "      <td>1.60</td>\n",
       "      <td>N/A</td>\n",
       "    </tr>\n",
       "    <tr>\n",
       "      <th>37</th>\n",
       "      <td>PUMP</td>\n",
       "      <td>Propetro Holding Corp</td>\n",
       "      <td>1.53</td>\n",
       "      <td>N/A</td>\n",
       "    </tr>\n",
       "    <tr>\n",
       "      <th>38</th>\n",
       "      <td>AROC</td>\n",
       "      <td>Archrock Inc</td>\n",
       "      <td>1.41</td>\n",
       "      <td>N/A</td>\n",
       "    </tr>\n",
       "    <tr>\n",
       "      <th>39</th>\n",
       "      <td>NE</td>\n",
       "      <td>Noble Corp Plc</td>\n",
       "      <td>1.36</td>\n",
       "      <td>N/A</td>\n",
       "    </tr>\n",
       "    <tr>\n",
       "      <th>40</th>\n",
       "      <td>AGPXX</td>\n",
       "      <td>Invesco Government &amp; Agency Portfolio Institutio</td>\n",
       "      <td>0.10</td>\n",
       "      <td>N/A</td>\n",
       "    </tr>\n",
       "  </tbody>\n",
       "</table>\n",
       "<p>5911 rows × 4 columns</p>\n",
       "</div>"
      ],
      "text/plain": [
       "   symbol                                              name percent shares\n",
       "0    AAPL                                         Apple Inc    7.01    N/A\n",
       "0    AAPL                                         Apple Inc    7.01    N/A\n",
       "1    MSFT                                    Microsoft Corp    5.94    N/A\n",
       "0    AAPL                                         Apple Inc    7.01    N/A\n",
       "1    MSFT                                    Microsoft Corp    5.94    N/A\n",
       "..    ...                                               ...     ...    ...\n",
       "36    HCC                              Warrior Met Coal Inc    1.60    N/A\n",
       "37   PUMP                             Propetro Holding Corp    1.53    N/A\n",
       "38   AROC                                      Archrock Inc    1.41    N/A\n",
       "39     NE                                    Noble Corp Plc    1.36    N/A\n",
       "40  AGPXX  Invesco Government & Agency Portfolio Institutio    0.10    N/A\n",
       "\n",
       "[5911 rows x 4 columns]"
      ]
     },
     "execution_count": 10,
     "metadata": {},
     "output_type": "execute_result"
    }
   ],
   "source": [
    "check = get_etf_holdings(etf)"
   ]
  },
  {
   "cell_type": "code",
   "execution_count": 8,
   "metadata": {},
   "outputs": [],
   "source": [
    "def get_table(soup):\n",
    "    for t in soup.select('table'):\n",
    "        header = t.select('thead tr th')\n",
    "        if len(header) > 2:\n",
    "            if (header[0].get_text().strip() == 'Symbol'\n",
    "                and header[2].get_text().strip().startswith('% Holding')):\n",
    "                return t\n",
    "    raise Exception('could not find symbol list table')\n",
    "    \n",
    "# Scrapes ETF holdings from barchart.com\n",
    "def get_etf_holdings(etf_symbol):\n",
    "    '''\n",
    "    etf_symbol: str\n",
    "    \n",
    "    return: pd.DataFrame\n",
    "    '''\n",
    "    url = 'https://www.barchart.com/stocks/quotes/{}/constituents?page=all'.format(\n",
    "        etf_symbol)\n",
    "\n",
    "    # Loads the ETF constituents page and reads the holdings table\n",
    "    browser = WebDriver() # webdriver.PhantomJS()\n",
    "    browser.get(url)\n",
    "    html = browser.page_source\n",
    "    soup = BeautifulSoup(html, 'html')\n",
    "    table = get_table(soup)\n",
    "\n",
    "    # Reads the holdings table line by line and appends each asset to a\n",
    "    # dictionary along with the holdings percentage\n",
    "    asset_dict = {}\n",
    "    for row in table.select('tr')[1:-1]:\n",
    "        try:\n",
    "            cells = row.select('td')\n",
    "          \n",
    "            symbol = cells[0].get_text().strip()\n",
    "\n",
    "            name = cells[1].text.strip()\n",
    "            celltext = cells[2].get_text().strip()\n",
    "            percent = celltext.rstrip('%')\n",
    "            shares = cells[3].text.strip().replace(',', '')\n",
    "            if symbol != \"\" and percent != 0.0:\n",
    "                asset_dict[symbol] = {\n",
    "                    'name': name,\n",
    "                    'percent': percent,\n",
    "                    'shares': shares,\n",
    "                }\n",
    "        except BaseException as ex:\n",
    "            print(ex)\n",
    "    browser.quit()\n",
    "    return pd.DataFrame(asset_dict)"
   ]
  },
  {
   "cell_type": "code",
   "execution_count": null,
   "metadata": {},
   "outputs": [],
   "source": [
    "constituent = get_etf_holdings('SPY')"
   ]
  },
  {
   "cell_type": "markdown",
   "metadata": {},
   "source": [
    "# Preview of data"
   ]
  },
  {
   "cell_type": "code",
   "execution_count": null,
   "metadata": {},
   "outputs": [],
   "source": [
    "constituent.T"
   ]
  },
  {
   "cell_type": "markdown",
   "metadata": {},
   "source": [
    "# IEX price data"
   ]
  },
  {
   "cell_type": "code",
   "execution_count": null,
   "metadata": {},
   "outputs": [],
   "source": [
    "def iex_charts(symbols):\n",
    "    partlen = 99\n",
    "    result = {}\n",
    "    for i in range(0, len(symbols), partlen):\n",
    "        charts = Stock(symbols[i:i+partlen],token=\"pk_0282ac374bcd487d8bf51aeac3662f40\").get_chart(range='1m')\n",
    "        if type(charts) == list:\n",
    "            charts = {symbols[i]: charts}\n",
    "        for symbol, data in charts.items():\n",
    "            df = pd.DataFrame(data).reset_index()\n",
    "\n",
    "\n",
    "            print(df.columns)\n",
    "            df.date = pd.to_datetime(df.date)\n",
    "            df.set_index('date', inplace=True)\n",
    "            df.index.names = ['epoch']\n",
    "            df.index = df.index.tz_localize('America/New_York')\n",
    "            result[symbol] = df\n",
    "    return result\n",
    "\n",
    "def get_closes(constituents):\n",
    "    symbols = list(constituents.columns)\n",
    "    charts = iex_charts(symbols)\n",
    "    return pd.DataFrame({symbol: df.close for symbol, df in charts.items()})    "
   ]
  },
  {
   "cell_type": "code",
   "execution_count": null,
   "metadata": {},
   "outputs": [],
   "source": [
    "def simulate(etf_symbol, cash, weights):\n",
    "    # weights = get_etf_holdings(etf_symbol)\n",
    "    symbols = list(weights.keys())\n",
    "    charts = iex_charts(symbols)\n",
    "    initial_prices = pd.Series({symbol: df.open[0] for symbol, df in charts.items()})\n",
    "    last_prices = pd.Series({symbol: df.close[-1] for symbol, df in charts.items()})\n",
    "\n",
    "    \n",
    "    # construct portfolio\n",
    "    portfolio = pd.DataFrame({\n",
    "        'weight': weights,\n",
    "        'initial_price': initial_prices,\n",
    "        'last_price': last_prices,\n",
    "    })\n",
    "    portfolio.fillna(0)\n",
    "    portfolio['shares'] = cash * portfolio.weight / 100 // portfolio.initial_price\n",
    "    # calculate return for each symbol\n",
    "    portfolio['return'] = (portfolio.last_price - portfolio.initial_price) * portfolio.shares\n",
    "    \n",
    "    return portfolio"
   ]
  },
  {
   "cell_type": "markdown",
   "metadata": {},
   "source": [
    "# Putting together, replicate SPY itself"
   ]
  },
  {
   "cell_type": "code",
   "execution_count": null,
   "metadata": {},
   "outputs": [],
   "source": [
    "closes = get_closes(constituent)"
   ]
  },
  {
   "cell_type": "code",
   "execution_count": null,
   "metadata": {
    "scrolled": false
   },
   "outputs": [],
   "source": [
    "replicated_perf = ((closes - closes.iloc[0]) * constituent.loc['shares']).sum(axis=1) / (closes.iloc[0] * constituent.loc['shares']).sum()"
   ]
  },
  {
   "cell_type": "code",
   "execution_count": null,
   "metadata": {
    "scrolled": false
   },
   "outputs": [],
   "source": [
    "etf = iex_charts(['SPY'])['SPY']\n",
    "original_perf = (etf.close - etf.close[0]) / etf.close[0]"
   ]
  },
  {
   "cell_type": "code",
   "execution_count": null,
   "metadata": {},
   "outputs": [],
   "source": [
    "performance = pd.DataFrame({'replicated': replicated_perf, 'original': original_perf})"
   ]
  },
  {
   "cell_type": "code",
   "execution_count": null,
   "metadata": {},
   "outputs": [],
   "source": [
    "plt.figure(figsize=(12, 8))\n",
    "performance.plot(figsize=(12, 8))"
   ]
  },
  {
   "cell_type": "markdown",
   "metadata": {},
   "source": [
    "# What if I have only 10K?"
   ]
  },
  {
   "cell_type": "code",
   "execution_count": null,
   "metadata": {},
   "outputs": [],
   "source": [
    "# This is to recalculate the weights at day 1 (instead of using the latest weights that are affected by the price changes)\n",
    "mktvals = (closes.iloc[0] * constituent.loc['shares'])\n",
    "weights = mktvals / mktvals.sum()"
   ]
  },
  {
   "cell_type": "code",
   "execution_count": null,
   "metadata": {
    "scrolled": false
   },
   "outputs": [],
   "source": [
    "# Say I have $10K, how many shares would I have bought for each?\n",
    "cash = 1e+4\n",
    "new_shares = cash * weights // closes.iloc[0]\n",
    "positions = pd.DataFrame({\n",
    "    'shares': new_shares,\n",
    "    'price': closes.iloc[0],\n",
    "    'dollar': closes.iloc[0] * new_shares,\n",
    "}).loc[new_shares > 0]\n",
    "positions"
   ]
  },
  {
   "cell_type": "code",
   "execution_count": null,
   "metadata": {},
   "outputs": [],
   "source": [
    "positions.dollar.sum()"
   ]
  },
  {
   "cell_type": "code",
   "execution_count": null,
   "metadata": {},
   "outputs": [],
   "source": [
    "new_perf = ((closes - closes.iloc[0]) * new_shares).sum(axis=1) / (closes.iloc[0] * new_shares).sum()"
   ]
  },
  {
   "cell_type": "code",
   "execution_count": null,
   "metadata": {},
   "outputs": [],
   "source": [
    "new_result = pd.DataFrame({\n",
    "    'replicated': new_perf,\n",
    "    'original': original_perf,\n",
    "})"
   ]
  },
  {
   "cell_type": "code",
   "execution_count": null,
   "metadata": {},
   "outputs": [],
   "source": [
    "new_result"
   ]
  },
  {
   "cell_type": "code",
   "execution_count": null,
   "metadata": {},
   "outputs": [],
   "source": [
    "new_result.plot(figsize=(12, 8))"
   ]
  },
  {
   "cell_type": "code",
   "execution_count": null,
   "metadata": {},
   "outputs": [],
   "source": []
  }
 ],
 "metadata": {
  "kernelspec": {
   "display_name": "Python 3",
   "language": "python",
   "name": "python3"
  },
  "language_info": {
   "codemirror_mode": {
    "name": "ipython",
    "version": 3
   },
   "file_extension": ".py",
   "mimetype": "text/x-python",
   "name": "python",
   "nbconvert_exporter": "python",
   "pygments_lexer": "ipython3",
   "version": "3.10.2"
  }
 },
 "nbformat": 4,
 "nbformat_minor": 1
}
